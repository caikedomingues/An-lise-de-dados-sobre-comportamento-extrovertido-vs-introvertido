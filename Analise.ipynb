{
 "cells": [
  {
   "cell_type": "markdown",
   "id": "41d34800",
   "metadata": {},
   "source": [
    "                                    Sobre o conjunto de dados\n",
    "Mergulhe no conjunto de dados de traços de personalidade extrovertidos vs introvertidos, uma rica coleção de dados comportamentais e sociais projetadas\n",
    "para explorar o espectro da personalidade humana. Este conjunto de dados captura\n",
    "indicadores-chave de extroversão e introversão, tornando-se um recurso valioso\n",
    "para psicologos, cientistas de dados e pesquisadores que estudam comportamento\n",
    "social, previsão de personalidade ou técnicas de pré-processamento de dados."
   ]
  },
  {
   "cell_type": "markdown",
   "id": "f0b7395d",
   "metadata": {},
   "source": [
    "                                 Contexto\n",
    "-> Traços de personalidade como extroversão e introversão moldam a forma como\n",
    "os inidividuos interagem com seus ambientes sociais. Este conjunto de dados\n",
    "fornece insights sobre comportamentos como tempo gasto sozinho, participação\n",
    "em eventos sociais e engajamento em midias sociais, possibilitando aplicações\n",
    "em psicologia, sociologia, marketing e aprendizado de máquina. Seja para prever\n",
    "tipos de personalidade ou análisar padrões sociais, este conjunto de dados é sua\n",
    "porta de entrada para descobrir insights fascinantes."
   ]
  },
  {
   "cell_type": "markdown",
   "id": "1d780d06",
   "metadata": {},
   "source": [
    "Tamanho: O conjunto de dados contém 2.900 linhas e 8 colunas"
   ]
  },
  {
   "cell_type": "markdown",
   "id": "c778c8a2",
   "metadata": {},
   "source": [
    "Import das bibliotecas necessárias"
   ]
  },
  {
   "cell_type": "code",
   "execution_count": null,
   "id": "5c3f7d72",
   "metadata": {},
   "outputs": [],
   "source": [
    "# Biblioteca que irá permitir acessar e manipular os dados de um dataset\n",
    "import pandas as pd\n",
    "\n",
    "# Biblioteca que irá permitir a construção de vários tipos de dados\n",
    "import seaborn as sns\n",
    "\n",
    "# Biblioteca que permite criar e manipular gráficos (como o seu titulo,\n",
    "# o seu tamanho, etc)\n",
    "import matplotlib.pyplot as plt"
   ]
  },
  {
   "cell_type": "markdown",
   "id": "b6187691",
   "metadata": {},
   "source": [
    "Acessando o dataset com o pandas"
   ]
  },
  {
   "cell_type": "code",
   "execution_count": 2,
   "id": "0f0b160e",
   "metadata": {},
   "outputs": [],
   "source": [
    "base_de_dados = pd.read_csv('personality_dataset.csv')"
   ]
  },
  {
   "cell_type": "markdown",
   "id": "66b03ceb",
   "metadata": {},
   "source": [
    "Verificando as colunas do dataset"
   ]
  },
  {
   "cell_type": "code",
   "execution_count": 3,
   "id": "5cecbfe0",
   "metadata": {},
   "outputs": [
    {
     "data": {
      "text/html": [
       "<div>\n",
       "<style scoped>\n",
       "    .dataframe tbody tr th:only-of-type {\n",
       "        vertical-align: middle;\n",
       "    }\n",
       "\n",
       "    .dataframe tbody tr th {\n",
       "        vertical-align: top;\n",
       "    }\n",
       "\n",
       "    .dataframe thead th {\n",
       "        text-align: right;\n",
       "    }\n",
       "</style>\n",
       "<table border=\"1\" class=\"dataframe\">\n",
       "  <thead>\n",
       "    <tr style=\"text-align: right;\">\n",
       "      <th></th>\n",
       "      <th>Time_spent_Alone</th>\n",
       "      <th>Stage_fear</th>\n",
       "      <th>Social_event_attendance</th>\n",
       "      <th>Going_outside</th>\n",
       "      <th>Drained_after_socializing</th>\n",
       "      <th>Friends_circle_size</th>\n",
       "      <th>Post_frequency</th>\n",
       "      <th>Personality</th>\n",
       "    </tr>\n",
       "  </thead>\n",
       "  <tbody>\n",
       "    <tr>\n",
       "      <th>0</th>\n",
       "      <td>4.0</td>\n",
       "      <td>No</td>\n",
       "      <td>4.0</td>\n",
       "      <td>6.0</td>\n",
       "      <td>No</td>\n",
       "      <td>13.0</td>\n",
       "      <td>5.0</td>\n",
       "      <td>Extrovert</td>\n",
       "    </tr>\n",
       "    <tr>\n",
       "      <th>1</th>\n",
       "      <td>9.0</td>\n",
       "      <td>Yes</td>\n",
       "      <td>0.0</td>\n",
       "      <td>0.0</td>\n",
       "      <td>Yes</td>\n",
       "      <td>0.0</td>\n",
       "      <td>3.0</td>\n",
       "      <td>Introvert</td>\n",
       "    </tr>\n",
       "    <tr>\n",
       "      <th>2</th>\n",
       "      <td>9.0</td>\n",
       "      <td>Yes</td>\n",
       "      <td>1.0</td>\n",
       "      <td>2.0</td>\n",
       "      <td>Yes</td>\n",
       "      <td>5.0</td>\n",
       "      <td>2.0</td>\n",
       "      <td>Introvert</td>\n",
       "    </tr>\n",
       "    <tr>\n",
       "      <th>3</th>\n",
       "      <td>0.0</td>\n",
       "      <td>No</td>\n",
       "      <td>6.0</td>\n",
       "      <td>7.0</td>\n",
       "      <td>No</td>\n",
       "      <td>14.0</td>\n",
       "      <td>8.0</td>\n",
       "      <td>Extrovert</td>\n",
       "    </tr>\n",
       "    <tr>\n",
       "      <th>4</th>\n",
       "      <td>3.0</td>\n",
       "      <td>No</td>\n",
       "      <td>9.0</td>\n",
       "      <td>4.0</td>\n",
       "      <td>No</td>\n",
       "      <td>8.0</td>\n",
       "      <td>5.0</td>\n",
       "      <td>Extrovert</td>\n",
       "    </tr>\n",
       "  </tbody>\n",
       "</table>\n",
       "</div>"
      ],
      "text/plain": [
       "   Time_spent_Alone Stage_fear  Social_event_attendance  Going_outside  \\\n",
       "0               4.0         No                      4.0            6.0   \n",
       "1               9.0        Yes                      0.0            0.0   \n",
       "2               9.0        Yes                      1.0            2.0   \n",
       "3               0.0         No                      6.0            7.0   \n",
       "4               3.0         No                      9.0            4.0   \n",
       "\n",
       "  Drained_after_socializing  Friends_circle_size  Post_frequency Personality  \n",
       "0                        No                 13.0             5.0   Extrovert  \n",
       "1                       Yes                  0.0             3.0   Introvert  \n",
       "2                       Yes                  5.0             2.0   Introvert  \n",
       "3                        No                 14.0             8.0   Extrovert  \n",
       "4                        No                  8.0             5.0   Extrovert  "
      ]
     },
     "execution_count": 3,
     "metadata": {},
     "output_type": "execute_result"
    }
   ],
   "source": [
    "base_de_dados.head()"
   ]
  },
  {
   "cell_type": "markdown",
   "id": "fb097eaa",
   "metadata": {},
   "source": [
    "Vamos renomear as colunas com o objetivo de facilitar a nossa análise e compreensão dos dados"
   ]
  },
  {
   "cell_type": "code",
   "execution_count": 7,
   "id": "9e5afd81",
   "metadata": {},
   "outputs": [],
   "source": [
    "base_de_dados.rename(columns={\n",
    "    \n",
    "    'Time_spent_Alone':'Tempo_passado_sozinho',\n",
    "    \n",
    "    # Podemos associar essa coluna ao medo de falar ou se apresentar\n",
    "    # em público\n",
    "    'Stage_fear':'Medo_de_palco',\n",
    "    \n",
    "    'Social_event_attendance': 'Frequência_de_participacao_em_eventos_sociais',\n",
    "    \n",
    "    # Acho que podemos considerar essa coluna como frequência que o candidato sai de casa.\n",
    "    'Going_outside': 'Frequencia_que_sai_de_casa',\n",
    "    \n",
    "    'Drained_after_socializing': 'Se_sente_esgotado_apos_socializar',\n",
    "    \n",
    "    'Friends_circle_size': 'Tamanho_do_circulo_de_amigos',\n",
    "    \n",
    "    'Post_frequency':'Frequencia_que_realiza_postagens',\n",
    "    \n",
    "    'Personality': 'Personalidade'\n",
    "    \n",
    "    \n",
    "    \n",
    "}, inplace=True)"
   ]
  },
  {
   "cell_type": "markdown",
   "id": "3fa5d5b5",
   "metadata": {},
   "source": [
    "Verificando se os nomes das colunas foram alterados"
   ]
  },
  {
   "cell_type": "code",
   "execution_count": 8,
   "id": "6277d30a",
   "metadata": {},
   "outputs": [
    {
     "data": {
      "text/plain": [
       "Index(['Tempo_passado_sozinho', 'Medo_de_palco',\n",
       "       'Frequência_de_participacao_em_eventos_sociais',\n",
       "       'Frequencia_que_sai_de_casa', 'Se_sente_esgotado_apos_socializar',\n",
       "       'Tamanho_do_circulo_de_amigos', 'Frequencia_que_realiza_postagens',\n",
       "       'Personalidade'],\n",
       "      dtype='object')"
      ]
     },
     "execution_count": 8,
     "metadata": {},
     "output_type": "execute_result"
    }
   ],
   "source": [
    "base_de_dados.columns"
   ]
  },
  {
   "cell_type": "markdown",
   "id": "e38a1353",
   "metadata": {},
   "source": [
    "Verificando as informações gerais do dataset"
   ]
  },
  {
   "cell_type": "code",
   "execution_count": 9,
   "id": "49a32eec",
   "metadata": {},
   "outputs": [
    {
     "name": "stdout",
     "output_type": "stream",
     "text": [
      "<class 'pandas.core.frame.DataFrame'>\n",
      "RangeIndex: 2900 entries, 0 to 2899\n",
      "Data columns (total 8 columns):\n",
      " #   Column                                         Non-Null Count  Dtype  \n",
      "---  ------                                         --------------  -----  \n",
      " 0   Tempo_passado_sozinho                          2837 non-null   float64\n",
      " 1   Medo_de_palco                                  2827 non-null   object \n",
      " 2   Frequência_de_participacao_em_eventos_sociais  2838 non-null   float64\n",
      " 3   Frequencia_que_sai_de_casa                     2834 non-null   float64\n",
      " 4   Se_sente_esgotado_apos_socializar              2848 non-null   object \n",
      " 5   Tamanho_do_circulo_de_amigos                   2823 non-null   float64\n",
      " 6   Frequencia_que_realiza_postagens               2835 non-null   float64\n",
      " 7   Personalidade                                  2900 non-null   object \n",
      "dtypes: float64(5), object(3)\n",
      "memory usage: 181.4+ KB\n"
     ]
    }
   ],
   "source": [
    "base_de_dados.info()"
   ]
  },
  {
   "cell_type": "markdown",
   "id": "05ad5cb7",
   "metadata": {},
   "source": [
    "Podemos observar que até o momento não será necessário converter os tipos dos dados"
   ]
  },
  {
   "cell_type": "markdown",
   "id": "72bdc3de",
   "metadata": {},
   "source": [
    "Verificando o total de valores nulos em cada coluna"
   ]
  },
  {
   "cell_type": "code",
   "execution_count": 10,
   "id": "3310550b",
   "metadata": {},
   "outputs": [
    {
     "data": {
      "text/plain": [
       "Tempo_passado_sozinho                            63\n",
       "Medo_de_palco                                    73\n",
       "Frequência_de_participacao_em_eventos_sociais    62\n",
       "Frequencia_que_sai_de_casa                       66\n",
       "Se_sente_esgotado_apos_socializar                52\n",
       "Tamanho_do_circulo_de_amigos                     77\n",
       "Frequencia_que_realiza_postagens                 65\n",
       "Personalidade                                     0\n",
       "dtype: int64"
      ]
     },
     "execution_count": 10,
     "metadata": {},
     "output_type": "execute_result"
    }
   ],
   "source": [
    "base_de_dados.isnull().sum()"
   ]
  },
  {
   "cell_type": "markdown",
   "id": "424ab8a9",
   "metadata": {},
   "source": [
    "Vamos eliminar do dataset, os valores nulos das colunas"
   ]
  },
  {
   "cell_type": "code",
   "execution_count": 11,
   "id": "f3a3d876",
   "metadata": {},
   "outputs": [],
   "source": [
    "base_de_dados = base_de_dados.dropna()"
   ]
  },
  {
   "cell_type": "markdown",
   "id": "1be15d19",
   "metadata": {},
   "source": [
    "Verificando se os valores nulos foram excluidos"
   ]
  },
  {
   "cell_type": "code",
   "execution_count": 12,
   "id": "fa0cd8ab",
   "metadata": {},
   "outputs": [
    {
     "data": {
      "text/plain": [
       "Tempo_passado_sozinho                            0\n",
       "Medo_de_palco                                    0\n",
       "Frequência_de_participacao_em_eventos_sociais    0\n",
       "Frequencia_que_sai_de_casa                       0\n",
       "Se_sente_esgotado_apos_socializar                0\n",
       "Tamanho_do_circulo_de_amigos                     0\n",
       "Frequencia_que_realiza_postagens                 0\n",
       "Personalidade                                    0\n",
       "dtype: int64"
      ]
     },
     "execution_count": 12,
     "metadata": {},
     "output_type": "execute_result"
    }
   ],
   "source": [
    "base_de_dados.isnull().sum()"
   ]
  },
  {
   "cell_type": "markdown",
   "id": "805f4b25",
   "metadata": {},
   "source": [
    "Agora podemos observar pelo info, que o dataset ficou apenas com as 2477 linhas (que não são nulas)"
   ]
  },
  {
   "cell_type": "code",
   "execution_count": 13,
   "id": "05e3f88e",
   "metadata": {},
   "outputs": [
    {
     "name": "stdout",
     "output_type": "stream",
     "text": [
      "<class 'pandas.core.frame.DataFrame'>\n",
      "Index: 2477 entries, 0 to 2899\n",
      "Data columns (total 8 columns):\n",
      " #   Column                                         Non-Null Count  Dtype  \n",
      "---  ------                                         --------------  -----  \n",
      " 0   Tempo_passado_sozinho                          2477 non-null   float64\n",
      " 1   Medo_de_palco                                  2477 non-null   object \n",
      " 2   Frequência_de_participacao_em_eventos_sociais  2477 non-null   float64\n",
      " 3   Frequencia_que_sai_de_casa                     2477 non-null   float64\n",
      " 4   Se_sente_esgotado_apos_socializar              2477 non-null   object \n",
      " 5   Tamanho_do_circulo_de_amigos                   2477 non-null   float64\n",
      " 6   Frequencia_que_realiza_postagens               2477 non-null   float64\n",
      " 7   Personalidade                                  2477 non-null   object \n",
      "dtypes: float64(5), object(3)\n",
      "memory usage: 174.2+ KB\n"
     ]
    }
   ],
   "source": [
    "base_de_dados.info()"
   ]
  },
  {
   "cell_type": "markdown",
   "id": "9d9b9fd2",
   "metadata": {},
   "source": [
    "Qual a distribuição dos tipos de personalidade no dataset?"
   ]
  },
  {
   "cell_type": "markdown",
   "id": "7fc1af50",
   "metadata": {},
   "source": [
    "Primeiro, vamos verificar a distribuição usando o método do pandas value_counts que irá contar a quantidade de cada valor único da coluna."
   ]
  },
  {
   "cell_type": "code",
   "execution_count": 14,
   "id": "55704761",
   "metadata": {},
   "outputs": [
    {
     "data": {
      "text/plain": [
       "Personalidade\n",
       "Extrovert    1274\n",
       "Introvert    1203\n",
       "Name: count, dtype: int64"
      ]
     },
     "execution_count": 14,
     "metadata": {},
     "output_type": "execute_result"
    }
   ],
   "source": [
    "base_de_dados['Personalidade'].value_counts()"
   ]
  },
  {
   "cell_type": "markdown",
   "id": "9f4d7e73",
   "metadata": {},
   "source": [
    "Também podemos verificar essa distribuição através de um gráfico de barras"
   ]
  },
  {
   "cell_type": "code",
   "execution_count": null,
   "id": "153b8053",
   "metadata": {},
   "outputs": [
    {
     "data": {
      "image/png": "[encoded data removed]",
      "text/plain": [
       "<Figure size 640x480 with 1 Axes>"
      ]
     },
     "metadata": {},
     "output_type": "display_data"
    }
   ],
   "source": [
    "# Irá definir o titulo do gráfico alinhado ao centro com o tamanho da\n",
    "# fonte 14.\n",
    "plt.title(\"Distribuição das personalidades\", loc='center', fontsize=14)\n",
    "\n",
    "# Vamos criar uma variável que irá receber a quantidade de valores unicos\n",
    "# da coluna de personalidade.\n",
    "base_de_dados_personalidade = base_de_dados['Personalidade'].value_counts()\n",
    "\n",
    "# Ira definir o titulo do eixo x\n",
    "plt.xlabel('Personalidade')\n",
    "\n",
    "# Irá definir o titulo do eixo y\n",
    "plt.ylabel('Distribuição das personalidades')\n",
    "\n",
    "# Irá construir o gráfico de barras com a distribuição das personalidades.\n",
    "# base_de_dados_personalidade.index: Irá atribuir ao eixo x o indice dos\n",
    "# (nome) dos valores unicos.\n",
    "# base_de_dados_personalidade.values: Irá atribuir ao eixo y os valores\n",
    "# (quantidade/frequencia dos valores únicos) da coluna análisada.\n",
    "# color: Irá definir a cor das barras.\n",
    "# width: Irá definir a largura das barras. O width recebe valores entre 0 e 1 onde quanto mais próximo do 1, maior a espessura do gráfico.\n",
    "plt.bar(base_de_dados_personalidade.index, base_de_dados_personalidade.values, color='red', width=0.30)\n",
    "\n",
    "# Ira exibir o gráfico de barras\n",
    "plt.show()"
   ]
  },
  {
   "cell_type": "markdown",
   "id": "aec014f7",
   "metadata": {},
   "source": [
    "Conclusão: Podemos observar que há mais pessoas extrovertidas do que introvertidas."
   ]
  },
  {
   "cell_type": "markdown",
   "id": "530ca81f",
   "metadata": {},
   "source": [
    "Quantas pessoas dizem sentir-se \"esgotado\" após uma conversa e quantas não?"
   ]
  },
  {
   "cell_type": "code",
   "execution_count": 36,
   "id": "41c76f9d",
   "metadata": {},
   "outputs": [
    {
     "data": {
      "text/plain": [
       "Se_sente_esgotado_apos_socializar\n",
       "No     1241\n",
       "Yes    1236\n",
       "Name: count, dtype: int64"
      ]
     },
     "execution_count": 36,
     "metadata": {},
     "output_type": "execute_result"
    }
   ],
   "source": [
    "base_de_dados['Se_sente_esgotado_apos_socializar'].value_counts()"
   ]
  },
  {
   "cell_type": "markdown",
   "id": "3dcb3fe4",
   "metadata": {},
   "source": [
    "Quantidade de pessoas extrovertidas e introvertidas que se sentem esgotadas após a socialização"
   ]
  },
  {
   "cell_type": "code",
   "execution_count": null,
   "id": "354a0cb0",
   "metadata": {},
   "outputs": [
    {
     "data": {
      "image/png": "[encoded data removed]",
      "text/plain": [
       "<Figure size 640x480 with 1 Axes>"
      ]
     },
     "metadata": {},
     "output_type": "display_data"
    }
   ],
   "source": [
    "# Ira definir o Titulo do gráfico alinhado ao centro \n",
    "plt.title('Frequencia de personalidades que se sentem esgotados após a socialização', loc='center')\n",
    "\n",
    "# Ira definir o titulo do eixo x\n",
    "plt.xlabel(\"Quantidade de pessoas de uma determinada personalidade\")\n",
    "\n",
    "# Irá definir o titulo do eixo y\n",
    "plt.ylabel(\"Distribuição das pessoas que se sentem esgotadas\")\n",
    "\n",
    "# Gráfico countplot: gráfico da biblioteca seaborn projetada especificamente\n",
    "# para mostrar a contagem de observações em cada categoria de uma variável\n",
    "# categórica. Dessa maneira, poderemos verificar a distribuição de variáveis\n",
    "# categóricas em outras variáveis categóricas.\n",
    "# x: Eixo x do gráfico que irá conter a coluna categórica (Personalidade no\n",
    "# nosso caso).\n",
    "# hue: Irá conter a segunda coluna categórica que será usada para agrupar (colorir) as barras da coluna 'x' (a coluna Se_sente_esgotado_apos_socializar no nosso caso, que contém valores como 'Sim' ou 'Não').\n",
    "# data: Ira conter a base de dados análisada.\n",
    "sns.countplot(x='Personalidade', hue='Se_sente_esgotado_apos_socializar', data=base_de_dados)\n",
    "\n",
    "# Ira exibir o gráfico\n",
    "plt.show()"
   ]
  },
  {
   "cell_type": "markdown",
   "id": "83115d6f",
   "metadata": {},
   "source": [
    "                            Conclusão do gráfico\n",
    "\n",
    "-> Podemos observar que que o numero de extrovertidos que se sentem esgotados é menor que o numero de extrovertidos que não se sentem esgotados. Isso talvez\n",
    "ocorra por que as pessoas extrovertidas tendem a socializar mais e melhor.\n",
    "\n",
    "-> O numero de introvertidos que se sentem esgotados é maior que o numero de introvertidos que não se sentem esgotados. Isso talvez ocorra por conta da dificuldade que os introvertidos tendem a ter ao se socializar.\n",
    "\n",
    "-> O numero de extrovertidos que não se sentem esgotados é maior que o numero de introvertidos que não se sentem esgotados.\n",
    "\n",
    "-> De modo geral (de acordo com o gráfico), os extrivertidos tendem a cansar menos durante a socialização"
   ]
  },
  {
   "cell_type": "markdown",
   "id": "e31eab25",
   "metadata": {},
   "source": [
    "Construindo um boxplot para descobrir a relação entre as colunas de tempo gasto sozinho e a personalidade."
   ]
  },
  {
   "cell_type": "code",
   "execution_count": 43,
   "id": "077390f7",
   "metadata": {},
   "outputs": [
    {
     "data": {
      "text/plain": [
       "Index(['Tempo_passado_sozinho', 'Medo_de_palco',\n",
       "       'Frequência_de_participacao_em_eventos_sociais',\n",
       "       'Frequencia_que_sai_de_casa', 'Se_sente_esgotado_apos_socializar',\n",
       "       'Tamanho_do_circulo_de_amigos', 'Frequencia_que_realiza_postagens',\n",
       "       'Personalidade'],\n",
       "      dtype='object')"
      ]
     },
     "execution_count": 43,
     "metadata": {},
     "output_type": "execute_result"
    }
   ],
   "source": [
    "base_de_dados.columns"
   ]
  },
  {
   "cell_type": "markdown",
   "id": "4a1a9338",
   "metadata": {},
   "source": [
    "Construção do boxplot das colunas 'Tempo_passado_sozinho' e 'Personalidade'"
   ]
  },
  {
   "cell_type": "code",
   "execution_count": 45,
   "id": "65a1d42b",
   "metadata": {},
   "outputs": [
    {
     "data": {
      "image/png": "[encoded data removed]",
      "text/plain": [
       "<Figure size 640x480 with 1 Axes>"
      ]
     },
     "metadata": {},
     "output_type": "display_data"
    }
   ],
   "source": [
    "plt.title('Boxplot das colunas tempo gasto sozinho e Personalidade')\n",
    "\n",
    "plt.xlabel('Personalidade')\n",
    "\n",
    "plt.ylabel('Tempo gasto sozinho')\n",
    "\n",
    "sns.boxplot(data=base_de_dados, x='Personalidade', y='Tempo_passado_sozinho')\n",
    "\n",
    "plt.show()"
   ]
  },
  {
   "cell_type": "markdown",
   "id": "79f52c46",
   "metadata": {},
   "source": [
    "                            Conclusão do boxplot\n",
    "-> Os boxplots possuem Como menor valor o 0 (pessoas que não passam nenhum tempo sozinhas)\n",
    "\n",
    "-> O boxplot dos extrovertidos tem como maior valor o 6 (quantidade de minutos que os extrovertidos passam sozinhos).\n",
    "\n",
    "-> O boxplot dos Introvertidos possuem como maior valor o 10 (quantidade de minutos que os introvertidos passam sozinho).\n",
    "\n",
    "-> A mediana do tempo que os extrovertidos passam sozinho é 2 minutos (valor representado pela linha que fica localizada no centro do boxplot).A linha no centro representa a mediana (Q2 ou 50º percentil). A mediana é o valor que divide a amostra em duas metades iguais (50% dos dados estão abaixo dele e 50% acima). Para os extrovertidos, a mediana está realmente no valor 2.\n",
    "\n",
    "-> Através do boxplot podemos relacionar que introvertidos tendem a passar mais tempo sozinhos que os extrovertidos "
   ]
  }
 ],
 "metadata": {
  "kernelspec": {
   "display_name": "Python 3",
   "language": "python",
   "name": "python3"
  },
  "language_info": {
   "codemirror_mode": {
    "name": "ipython",
    "version": 3
   },
   "file_extension": ".py",
   "mimetype": "text/x-python",
   "name": "python",
   "nbconvert_exporter": "python",
   "pygments_lexer": "ipython3",
   "version": "3.12.10"
  }
 },
 "nbformat": 4,
 "nbformat_minor": 5
}
