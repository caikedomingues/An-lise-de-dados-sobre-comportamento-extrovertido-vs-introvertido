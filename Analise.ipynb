{
 "cells": [
  {
   "cell_type": "markdown",
   "id": "41d34800",
   "metadata": {},
   "source": [
    "                                    Sobre o conjunto de dados\n",
    "Mergulhe no conjunto de dados de traços de personalidade extrovertidos vs introvertidos, uma rica coleção de dados comportamentais e sociais projetadas\n",
    "para explorar o espectro da personalidade humana. Este conjunto de dados captura\n",
    "indicadores-chave de extroversão e introversão, tornando-se um recurso valioso\n",
    "para psicologos, cientistas de dados e pesquisadores que estudam comportamento\n",
    "social, previsão de personalidade ou técnicas de pré-processamento de dados."
   ]
  }
 ],
 "metadata": {
  "language_info": {
   "name": "python"
  }
 },
 "nbformat": 4,
 "nbformat_minor": 5
}
